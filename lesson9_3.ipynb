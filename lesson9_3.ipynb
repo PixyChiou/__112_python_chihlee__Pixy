{
 "cells": [
  {
   "cell_type": "code",
   "execution_count": 2,
   "metadata": {},
   "outputs": [],
   "source": [
    "stu1 = [78,92,65,86,74]\n",
    "stu2 = [78,95,63,72,74]\n",
    "stu3 = [62,55,75,80,79]"
   ]
  },
  {
   "cell_type": "code",
   "execution_count": 3,
   "metadata": {},
   "outputs": [
    {
     "data": {
      "text/plain": [
       "[[78, 92, 65, 86, 74], [78, 95, 63, 72, 74], [62, 55, 75, 80, 79]]"
      ]
     },
     "execution_count": 3,
     "metadata": {},
     "output_type": "execute_result"
    }
   ],
   "source": [
    "students = [stu1,stu2,stu3]\n",
    "students"
   ]
  },
  {
   "cell_type": "code",
   "execution_count": 10,
   "metadata": {},
   "outputs": [
    {
     "data": {
      "text/plain": [
       "[[78, 92, 65, 86, 74], [78, 95, 63, 72, 74], [62, 55, 75, 80, 79]]"
      ]
     },
     "execution_count": 10,
     "metadata": {},
     "output_type": "execute_result"
    }
   ],
   "source": [
    "students = list()\n",
    "students.append(stu1)\n",
    "students.append(stu2)\n",
    "students.append(stu3)\n",
    "students"
   ]
  },
  {
   "cell_type": "code",
   "execution_count": 11,
   "metadata": {},
   "outputs": [
    {
     "data": {
      "text/plain": [
       "[68, 95, 52, 57, 60]"
      ]
     },
     "execution_count": 11,
     "metadata": {},
     "output_type": "execute_result"
    }
   ],
   "source": [
    "import random\n",
    "stu = []\n",
    "for _ in range(5):\n",
    "    score = random.randint(50,100)\n",
    "    stu.append(score)\n",
    "stu"
   ]
  },
  {
   "cell_type": "code",
   "execution_count": 12,
   "metadata": {},
   "outputs": [
    {
     "data": {
      "text/plain": [
       "[[83, 99, 75, 74, 60],\n",
       " [86, 75, 85, 62, 62],\n",
       " [80, 97, 85, 63, 67],\n",
       " [62, 94, 66, 77, 63],\n",
       " [59, 75, 57, 66, 69],\n",
       " [58, 68, 90, 92, 52],\n",
       " [58, 95, 80, 85, 58],\n",
       " [58, 95, 74, 59, 67],\n",
       " [58, 77, 50, 88, 87],\n",
       " [51, 97, 77, 100, 76],\n",
       " [92, 75, 97, 78, 73],\n",
       " [79, 86, 64, 78, 90],\n",
       " [54, 75, 85, 69, 59],\n",
       " [92, 71, 58, 75, 84],\n",
       " [75, 89, 83, 60, 69],\n",
       " [100, 59, 77, 63, 74],\n",
       " [86, 73, 86, 59, 95],\n",
       " [51, 71, 60, 55, 95],\n",
       " [58, 80, 70, 60, 80],\n",
       " [76, 67, 51, 56, 62],\n",
       " [89, 50, 88, 83, 61],\n",
       " [60, 64, 92, 99, 50],\n",
       " [77, 61, 56, 65, 50],\n",
       " [67, 97, 63, 75, 50],\n",
       " [97, 98, 67, 87, 62],\n",
       " [61, 50, 69, 71, 84],\n",
       " [68, 58, 88, 85, 92],\n",
       " [57, 81, 86, 58, 66],\n",
       " [79, 57, 81, 83, 78],\n",
       " [74, 77, 93, 69, 90],\n",
       " [91, 66, 88, 71, 67],\n",
       " [69, 70, 60, 57, 52],\n",
       " [58, 63, 94, 88, 65],\n",
       " [61, 84, 50, 62, 81],\n",
       " [69, 76, 66, 54, 66],\n",
       " [97, 80, 89, 62, 80],\n",
       " [68, 53, 88, 70, 64],\n",
       " [70, 72, 80, 83, 97],\n",
       " [54, 88, 57, 97, 97],\n",
       " [84, 100, 62, 68, 50],\n",
       " [84, 93, 99, 99, 77],\n",
       " [84, 71, 92, 90, 63],\n",
       " [76, 79, 90, 58, 72],\n",
       " [94, 82, 50, 79, 93],\n",
       " [60, 62, 52, 64, 56],\n",
       " [50, 89, 76, 86, 74],\n",
       " [63, 99, 62, 72, 57],\n",
       " [76, 60, 87, 77, 78],\n",
       " [55, 88, 52, 69, 75],\n",
       " [78, 95, 83, 70, 55]]"
      ]
     },
     "execution_count": 12,
     "metadata": {},
     "output_type": "execute_result"
    }
   ],
   "source": [
    "import random\n",
    "students = []\n",
    "for _ in range(50):\n",
    "    stu = []\n",
    "    for _ in range(5):\n",
    "        score = random.randint(50,100)\n",
    "        stu.append(score)\n",
    "    students.append(stu)\n",
    "students"
   ]
  },
  {
   "cell_type": "code",
   "execution_count": 13,
   "metadata": {},
   "outputs": [
    {
     "data": {
      "text/plain": [
       "[[55, 51, 64, 69, 57],\n",
       " [53, 50, 98, 60, 79],\n",
       " [64, 62, 65, 59, 96],\n",
       " [52, 85, 79, 65, 56],\n",
       " [68, 87, 93, 57, 77],\n",
       " [60, 95, 55, 85, 59],\n",
       " [53, 77, 63, 77, 98],\n",
       " [97, 88, 73, 85, 100],\n",
       " [98, 60, 73, 74, 54],\n",
       " [53, 76, 90, 51, 63],\n",
       " [58, 89, 98, 79, 70],\n",
       " [81, 81, 65, 72, 63],\n",
       " [61, 85, 59, 95, 79],\n",
       " [57, 74, 52, 99, 67],\n",
       " [82, 60, 59, 90, 99],\n",
       " [56, 73, 89, 87, 71],\n",
       " [62, 90, 87, 74, 55],\n",
       " [53, 65, 99, 80, 96],\n",
       " [74, 82, 83, 75, 84],\n",
       " [83, 65, 75, 71, 59],\n",
       " [71, 61, 81, 51, 62],\n",
       " [96, 63, 98, 91, 54],\n",
       " [85, 64, 87, 85, 85],\n",
       " [58, 54, 89, 87, 74],\n",
       " [50, 64, 95, 62, 63],\n",
       " [61, 90, 75, 80, 91],\n",
       " [96, 92, 61, 54, 75],\n",
       " [89, 77, 70, 100, 66],\n",
       " [58, 52, 54, 73, 97],\n",
       " [79, 69, 86, 96, 91],\n",
       " [89, 62, 77, 65, 75],\n",
       " [64, 71, 99, 77, 63],\n",
       " [79, 68, 85, 91, 84],\n",
       " [75, 55, 92, 60, 91],\n",
       " [57, 67, 69, 70, 83],\n",
       " [96, 66, 62, 83, 89],\n",
       " [52, 69, 55, 85, 85],\n",
       " [89, 58, 75, 83, 99],\n",
       " [74, 76, 81, 84, 51],\n",
       " [80, 58, 100, 51, 75],\n",
       " [53, 84, 97, 93, 67],\n",
       " [92, 67, 77, 71, 58],\n",
       " [96, 95, 84, 68, 77],\n",
       " [72, 86, 93, 64, 64],\n",
       " [60, 77, 55, 87, 56],\n",
       " [97, 60, 51, 66, 65],\n",
       " [74, 53, 77, 56, 89],\n",
       " [61, 100, 58, 95, 59],\n",
       " [90, 76, 85, 75, 60],\n",
       " [94, 89, 81, 98, 95]]"
      ]
     },
     "execution_count": 13,
     "metadata": {},
     "output_type": "execute_result"
    }
   ],
   "source": [
    "import random\n",
    "def createStudent()->list[int]:\n",
    "    stu = []\n",
    "    for _ in range(5):\n",
    "        score = random.randint(50,100)\n",
    "        stu.append(score)\n",
    "    return stu\n",
    "\n",
    "classes = []\n",
    "for _ in range(50):\n",
    "    stu = createStudent()\n",
    "    classes.append(stu)\n",
    "classes"
   ]
  },
  {
   "cell_type": "code",
   "execution_count": 26,
   "metadata": {},
   "outputs": [
    {
     "data": {
      "text/plain": [
       "[[53, 69, 86, 69, 70],\n",
       " [77, 62, 73, 54, 56],\n",
       " [97, 68, 91, 63, 66],\n",
       " [94, 71, 64, 54, 88],\n",
       " [93, 96, 66, 95, 60],\n",
       " [79, 99, 56, 84, 78],\n",
       " [83, 66, 92, 52, 64],\n",
       " [69, 52, 73, 97, 88],\n",
       " [52, 50, 71, 70, 99],\n",
       " [63, 82, 68, 71, 74],\n",
       " [91, 78, 91, 65, 51],\n",
       " [82, 60, 68, 75, 50],\n",
       " [90, 60, 88, 100, 90],\n",
       " [94, 59, 71, 68, 73],\n",
       " [73, 59, 85, 62, 82],\n",
       " [100, 50, 62, 85, 77],\n",
       " [89, 54, 61, 65, 85],\n",
       " [52, 93, 100, 78, 95],\n",
       " [64, 95, 73, 71, 71],\n",
       " [89, 86, 89, 73, 87],\n",
       " [94, 61, 98, 85, 88],\n",
       " [75, 84, 75, 72, 81],\n",
       " [74, 74, 57, 78, 86],\n",
       " [67, 51, 81, 66, 63],\n",
       " [87, 99, 94, 79, 67],\n",
       " [58, 58, 96, 94, 56],\n",
       " [88, 57, 84, 77, 54],\n",
       " [78, 67, 50, 59, 63],\n",
       " [50, 65, 86, 85, 76],\n",
       " [77, 84, 93, 69, 57],\n",
       " [97, 81, 96, 88, 65],\n",
       " [82, 65, 73, 76, 97],\n",
       " [58, 50, 96, 78, 68],\n",
       " [95, 53, 94, 73, 91],\n",
       " [81, 64, 90, 63, 67],\n",
       " [60, 78, 62, 83, 63],\n",
       " [59, 82, 86, 52, 95],\n",
       " [55, 56, 84, 88, 89],\n",
       " [88, 95, 70, 66, 74],\n",
       " [87, 52, 69, 56, 74],\n",
       " [60, 89, 100, 51, 62],\n",
       " [84, 82, 68, 54, 60],\n",
       " [81, 91, 59, 66, 97],\n",
       " [50, 94, 94, 50, 68],\n",
       " [76, 92, 57, 77, 96],\n",
       " [55, 60, 72, 82, 72],\n",
       " [61, 98, 88, 52, 70],\n",
       " [80, 84, 61, 72, 75],\n",
       " [51, 77, 66, 98, 63],\n",
       " [98, 72, 63, 53, 80]]"
      ]
     },
     "execution_count": 26,
     "metadata": {},
     "output_type": "execute_result"
    }
   ],
   "source": [
    "import random\n",
    "def createStudent()->list[int]:\n",
    "    stu = []\n",
    "    for _ in range(5):\n",
    "        score = random.randint(50,100)\n",
    "        stu.append(score)\n",
    "    return stu\n",
    "\n",
    "def createClasses()->list[list]:\n",
    "    classes = []\n",
    "    for _ in range(50):\n",
    "        stu = createStudent()\n",
    "        classes.append(stu)\n",
    "    return classes\n",
    "\n",
    "createClasses()"
   ]
  },
  {
   "cell_type": "code",
   "execution_count": 24,
   "metadata": {},
   "outputs": [],
   "source": [
    "import random\n",
    "def createStudent()->list[int]:\n",
    "    stu = []\n",
    "    for _ in range(5):\n",
    "        score = random.randint(50,100)\n",
    "        stu.append(score)\n",
    "    return stu\n",
    "\n",
    "def createClasses(numbers:int)->list[list]:\n",
    "    classes = []\n",
    "    for _ in range(numbers):\n",
    "        stu = createStudent()\n",
    "        classes.append(stu)\n",
    "    return classes\n",
    "\n",
    "studnets = createClasses(50)"
   ]
  },
  {
   "cell_type": "code",
   "execution_count": 25,
   "metadata": {},
   "outputs": [],
   "source": [
    "#存檔\n",
    "import csv\n",
    "file = open('students.csv',mode='w',encoding='utf-8',newline='')\n",
    "csv_writer = csv.writer(file)\n",
    "csv_writer.writerow(['國文','英文','數學','地理','歷史'])\n",
    "csv_writer.writerows(students)\n",
    "file.close()"
   ]
  }
 ],
 "metadata": {
  "kernelspec": {
   "display_name": "Python 3",
   "language": "python",
   "name": "python3"
  },
  "language_info": {
   "codemirror_mode": {
    "name": "ipython",
    "version": 3
   },
   "file_extension": ".py",
   "mimetype": "text/x-python",
   "name": "python",
   "nbconvert_exporter": "python",
   "pygments_lexer": "ipython3",
   "version": "3.10.13"
  }
 },
 "nbformat": 4,
 "nbformat_minor": 2
}
