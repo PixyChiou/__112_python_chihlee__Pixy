{
 "cells": [
  {
   "cell_type": "code",
   "execution_count": 2,
   "metadata": {},
   "outputs": [],
   "source": [
    "stu1 = [78,92,65,86,74]\n",
    "stu2 = [78,95,63,72,74]\n",
    "stu3 = [62,55,75,80,79]"
   ]
  },
  {
   "cell_type": "code",
   "execution_count": 3,
   "metadata": {},
   "outputs": [
    {
     "data": {
      "text/plain": [
       "[[78, 92, 65, 86, 74], [78, 95, 63, 72, 74], [62, 55, 75, 80, 79]]"
      ]
     },
     "execution_count": 3,
     "metadata": {},
     "output_type": "execute_result"
    }
   ],
   "source": [
    "students = [stu1,stu2,stu3]\n",
    "students"
   ]
  },
  {
   "cell_type": "code",
   "execution_count": 10,
   "metadata": {},
   "outputs": [
    {
     "data": {
      "text/plain": [
       "[[78, 92, 65, 86, 74], [78, 95, 63, 72, 74], [62, 55, 75, 80, 79]]"
      ]
     },
     "execution_count": 10,
     "metadata": {},
     "output_type": "execute_result"
    }
   ],
   "source": [
    "students = list()\n",
    "students.append(stu1)\n",
    "students.append(stu2)\n",
    "students.append(stu3)\n",
    "students"
   ]
  },
  {
   "cell_type": "code",
   "execution_count": 11,
   "metadata": {},
   "outputs": [
    {
     "data": {
      "text/plain": [
       "[68, 95, 52, 57, 60]"
      ]
     },
     "execution_count": 11,
     "metadata": {},
     "output_type": "execute_result"
    }
   ],
   "source": [
    "import random\n",
    "stu = []\n",
    "for _ in range(5):\n",
    "    score = random.randint(50,100)\n",
    "    stu.append(score)\n",
    "stu"
   ]
  },
  {
   "cell_type": "code",
   "execution_count": 12,
   "metadata": {},
   "outputs": [
    {
     "data": {
      "text/plain": [
       "[[83, 99, 75, 74, 60],\n",
       " [86, 75, 85, 62, 62],\n",
       " [80, 97, 85, 63, 67],\n",
       " [62, 94, 66, 77, 63],\n",
       " [59, 75, 57, 66, 69],\n",
       " [58, 68, 90, 92, 52],\n",
       " [58, 95, 80, 85, 58],\n",
       " [58, 95, 74, 59, 67],\n",
       " [58, 77, 50, 88, 87],\n",
       " [51, 97, 77, 100, 76],\n",
       " [92, 75, 97, 78, 73],\n",
       " [79, 86, 64, 78, 90],\n",
       " [54, 75, 85, 69, 59],\n",
       " [92, 71, 58, 75, 84],\n",
       " [75, 89, 83, 60, 69],\n",
       " [100, 59, 77, 63, 74],\n",
       " [86, 73, 86, 59, 95],\n",
       " [51, 71, 60, 55, 95],\n",
       " [58, 80, 70, 60, 80],\n",
       " [76, 67, 51, 56, 62],\n",
       " [89, 50, 88, 83, 61],\n",
       " [60, 64, 92, 99, 50],\n",
       " [77, 61, 56, 65, 50],\n",
       " [67, 97, 63, 75, 50],\n",
       " [97, 98, 67, 87, 62],\n",
       " [61, 50, 69, 71, 84],\n",
       " [68, 58, 88, 85, 92],\n",
       " [57, 81, 86, 58, 66],\n",
       " [79, 57, 81, 83, 78],\n",
       " [74, 77, 93, 69, 90],\n",
       " [91, 66, 88, 71, 67],\n",
       " [69, 70, 60, 57, 52],\n",
       " [58, 63, 94, 88, 65],\n",
       " [61, 84, 50, 62, 81],\n",
       " [69, 76, 66, 54, 66],\n",
       " [97, 80, 89, 62, 80],\n",
       " [68, 53, 88, 70, 64],\n",
       " [70, 72, 80, 83, 97],\n",
       " [54, 88, 57, 97, 97],\n",
       " [84, 100, 62, 68, 50],\n",
       " [84, 93, 99, 99, 77],\n",
       " [84, 71, 92, 90, 63],\n",
       " [76, 79, 90, 58, 72],\n",
       " [94, 82, 50, 79, 93],\n",
       " [60, 62, 52, 64, 56],\n",
       " [50, 89, 76, 86, 74],\n",
       " [63, 99, 62, 72, 57],\n",
       " [76, 60, 87, 77, 78],\n",
       " [55, 88, 52, 69, 75],\n",
       " [78, 95, 83, 70, 55]]"
      ]
     },
     "execution_count": 12,
     "metadata": {},
     "output_type": "execute_result"
    }
   ],
   "source": [
    "import random\n",
    "students = []\n",
    "for _ in range(50):\n",
    "    stu = []\n",
    "    for _ in range(5):\n",
    "        score = random.randint(50,100)\n",
    "        stu.append(score)\n",
    "    students.append(stu)\n",
    "students"
   ]
  }
 ],
 "metadata": {
  "kernelspec": {
   "display_name": "Python 3",
   "language": "python",
   "name": "python3"
  },
  "language_info": {
   "codemirror_mode": {
    "name": "ipython",
    "version": 3
   },
   "file_extension": ".py",
   "mimetype": "text/x-python",
   "name": "python",
   "nbconvert_exporter": "python",
   "pygments_lexer": "ipython3",
   "version": "3.10.13"
  }
 },
 "nbformat": 4,
 "nbformat_minor": 2
}
