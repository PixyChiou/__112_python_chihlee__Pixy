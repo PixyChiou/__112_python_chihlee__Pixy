{
 "cells": [
  {
   "cell_type": "code",
   "execution_count": 2,
   "metadata": {},
   "outputs": [],
   "source": [
    "stu1 = [78,92,65,86,74]\n",
    "stu2 = [78,95,63,72,74]\n",
    "stu3 = [62,55,75,80,79]"
   ]
  },
  {
   "cell_type": "code",
   "execution_count": 3,
   "metadata": {},
   "outputs": [
    {
     "data": {
      "text/plain": [
       "[[78, 92, 65, 86, 74], [78, 95, 63, 72, 74], [62, 55, 75, 80, 79]]"
      ]
     },
     "execution_count": 3,
     "metadata": {},
     "output_type": "execute_result"
    }
   ],
   "source": [
    "students = [stu1,stu2,stu3]\n",
    "students"
   ]
  },
  {
   "cell_type": "code",
   "execution_count": 10,
   "metadata": {},
   "outputs": [
    {
     "data": {
      "text/plain": [
       "[[78, 92, 65, 86, 74], [78, 95, 63, 72, 74], [62, 55, 75, 80, 79]]"
      ]
     },
     "execution_count": 10,
     "metadata": {},
     "output_type": "execute_result"
    }
   ],
   "source": [
    "students = list()\n",
    "students.append(stu1)\n",
    "students.append(stu2)\n",
    "students.append(stu3)\n",
    "students"
   ]
  },
  {
   "cell_type": "code",
   "execution_count": 11,
   "metadata": {},
   "outputs": [
    {
     "data": {
      "text/plain": [
       "[68, 95, 52, 57, 60]"
      ]
     },
     "execution_count": 11,
     "metadata": {},
     "output_type": "execute_result"
    }
   ],
   "source": [
    "import random\n",
    "stu = []\n",
    "for _ in range(5):\n",
    "    score = random.randint(50,100)\n",
    "    stu.append(score)\n",
    "stu"
   ]
  },
  {
   "cell_type": "code",
   "execution_count": 12,
   "metadata": {},
   "outputs": [
    {
     "data": {
      "text/plain": [
       "[[83, 99, 75, 74, 60],\n",
       " [86, 75, 85, 62, 62],\n",
       " [80, 97, 85, 63, 67],\n",
       " [62, 94, 66, 77, 63],\n",
       " [59, 75, 57, 66, 69],\n",
       " [58, 68, 90, 92, 52],\n",
       " [58, 95, 80, 85, 58],\n",
       " [58, 95, 74, 59, 67],\n",
       " [58, 77, 50, 88, 87],\n",
       " [51, 97, 77, 100, 76],\n",
       " [92, 75, 97, 78, 73],\n",
       " [79, 86, 64, 78, 90],\n",
       " [54, 75, 85, 69, 59],\n",
       " [92, 71, 58, 75, 84],\n",
       " [75, 89, 83, 60, 69],\n",
       " [100, 59, 77, 63, 74],\n",
       " [86, 73, 86, 59, 95],\n",
       " [51, 71, 60, 55, 95],\n",
       " [58, 80, 70, 60, 80],\n",
       " [76, 67, 51, 56, 62],\n",
       " [89, 50, 88, 83, 61],\n",
       " [60, 64, 92, 99, 50],\n",
       " [77, 61, 56, 65, 50],\n",
       " [67, 97, 63, 75, 50],\n",
       " [97, 98, 67, 87, 62],\n",
       " [61, 50, 69, 71, 84],\n",
       " [68, 58, 88, 85, 92],\n",
       " [57, 81, 86, 58, 66],\n",
       " [79, 57, 81, 83, 78],\n",
       " [74, 77, 93, 69, 90],\n",
       " [91, 66, 88, 71, 67],\n",
       " [69, 70, 60, 57, 52],\n",
       " [58, 63, 94, 88, 65],\n",
       " [61, 84, 50, 62, 81],\n",
       " [69, 76, 66, 54, 66],\n",
       " [97, 80, 89, 62, 80],\n",
       " [68, 53, 88, 70, 64],\n",
       " [70, 72, 80, 83, 97],\n",
       " [54, 88, 57, 97, 97],\n",
       " [84, 100, 62, 68, 50],\n",
       " [84, 93, 99, 99, 77],\n",
       " [84, 71, 92, 90, 63],\n",
       " [76, 79, 90, 58, 72],\n",
       " [94, 82, 50, 79, 93],\n",
       " [60, 62, 52, 64, 56],\n",
       " [50, 89, 76, 86, 74],\n",
       " [63, 99, 62, 72, 57],\n",
       " [76, 60, 87, 77, 78],\n",
       " [55, 88, 52, 69, 75],\n",
       " [78, 95, 83, 70, 55]]"
      ]
     },
     "execution_count": 12,
     "metadata": {},
     "output_type": "execute_result"
    }
   ],
   "source": [
    "import random\n",
    "students = []\n",
    "for _ in range(50):\n",
    "    stu = []\n",
    "    for _ in range(5):\n",
    "        score = random.randint(50,100)\n",
    "        stu.append(score)\n",
    "    students.append(stu)\n",
    "students"
   ]
  },
  {
   "cell_type": "code",
   "execution_count": 13,
   "metadata": {},
   "outputs": [
    {
     "data": {
      "text/plain": [
       "[[55, 51, 64, 69, 57],\n",
       " [53, 50, 98, 60, 79],\n",
       " [64, 62, 65, 59, 96],\n",
       " [52, 85, 79, 65, 56],\n",
       " [68, 87, 93, 57, 77],\n",
       " [60, 95, 55, 85, 59],\n",
       " [53, 77, 63, 77, 98],\n",
       " [97, 88, 73, 85, 100],\n",
       " [98, 60, 73, 74, 54],\n",
       " [53, 76, 90, 51, 63],\n",
       " [58, 89, 98, 79, 70],\n",
       " [81, 81, 65, 72, 63],\n",
       " [61, 85, 59, 95, 79],\n",
       " [57, 74, 52, 99, 67],\n",
       " [82, 60, 59, 90, 99],\n",
       " [56, 73, 89, 87, 71],\n",
       " [62, 90, 87, 74, 55],\n",
       " [53, 65, 99, 80, 96],\n",
       " [74, 82, 83, 75, 84],\n",
       " [83, 65, 75, 71, 59],\n",
       " [71, 61, 81, 51, 62],\n",
       " [96, 63, 98, 91, 54],\n",
       " [85, 64, 87, 85, 85],\n",
       " [58, 54, 89, 87, 74],\n",
       " [50, 64, 95, 62, 63],\n",
       " [61, 90, 75, 80, 91],\n",
       " [96, 92, 61, 54, 75],\n",
       " [89, 77, 70, 100, 66],\n",
       " [58, 52, 54, 73, 97],\n",
       " [79, 69, 86, 96, 91],\n",
       " [89, 62, 77, 65, 75],\n",
       " [64, 71, 99, 77, 63],\n",
       " [79, 68, 85, 91, 84],\n",
       " [75, 55, 92, 60, 91],\n",
       " [57, 67, 69, 70, 83],\n",
       " [96, 66, 62, 83, 89],\n",
       " [52, 69, 55, 85, 85],\n",
       " [89, 58, 75, 83, 99],\n",
       " [74, 76, 81, 84, 51],\n",
       " [80, 58, 100, 51, 75],\n",
       " [53, 84, 97, 93, 67],\n",
       " [92, 67, 77, 71, 58],\n",
       " [96, 95, 84, 68, 77],\n",
       " [72, 86, 93, 64, 64],\n",
       " [60, 77, 55, 87, 56],\n",
       " [97, 60, 51, 66, 65],\n",
       " [74, 53, 77, 56, 89],\n",
       " [61, 100, 58, 95, 59],\n",
       " [90, 76, 85, 75, 60],\n",
       " [94, 89, 81, 98, 95]]"
      ]
     },
     "execution_count": 13,
     "metadata": {},
     "output_type": "execute_result"
    }
   ],
   "source": [
    "import random\n",
    "def createStudent()->list[int]:\n",
    "    stu = []\n",
    "    for _ in range(5):\n",
    "        score = random.randint(50,100)\n",
    "        stu.append(score)\n",
    "    return stu\n",
    "\n",
    "classes = []\n",
    "for _ in range(50):\n",
    "    stu = createStudent()\n",
    "    classes.append(stu)\n",
    "classes"
   ]
  },
  {
   "cell_type": "code",
   "execution_count": 16,
   "metadata": {},
   "outputs": [
    {
     "data": {
      "text/plain": [
       "[[85, 80, 66, 90, 87],\n",
       " [76, 67, 57, 85, 92],\n",
       " [85, 100, 50, 54, 94],\n",
       " [56, 53, 87, 68, 90],\n",
       " [79, 96, 87, 90, 56],\n",
       " [73, 63, 82, 62, 95],\n",
       " [77, 77, 53, 89, 69],\n",
       " [82, 83, 90, 76, 86],\n",
       " [54, 91, 52, 73, 52],\n",
       " [65, 93, 57, 97, 96],\n",
       " [51, 74, 98, 69, 75],\n",
       " [54, 93, 93, 51, 70],\n",
       " [92, 81, 57, 59, 84],\n",
       " [74, 100, 72, 79, 98],\n",
       " [51, 65, 65, 76, 61],\n",
       " [51, 84, 56, 85, 73],\n",
       " [78, 75, 79, 97, 66],\n",
       " [65, 91, 95, 72, 76],\n",
       " [58, 98, 91, 71, 82],\n",
       " [61, 58, 95, 65, 81],\n",
       " [97, 78, 80, 51, 71],\n",
       " [59, 67, 69, 65, 94],\n",
       " [71, 80, 63, 81, 65],\n",
       " [60, 69, 81, 69, 69],\n",
       " [97, 65, 93, 61, 81],\n",
       " [50, 76, 54, 57, 66],\n",
       " [50, 95, 94, 66, 80],\n",
       " [92, 56, 70, 71, 65],\n",
       " [67, 97, 82, 67, 96],\n",
       " [55, 79, 57, 73, 99],\n",
       " [79, 56, 65, 60, 84],\n",
       " [74, 95, 90, 97, 65],\n",
       " [71, 93, 57, 63, 94],\n",
       " [91, 51, 66, 51, 58],\n",
       " [71, 66, 86, 70, 95],\n",
       " [62, 73, 98, 100, 93],\n",
       " [81, 88, 83, 57, 77],\n",
       " [99, 91, 78, 92, 86],\n",
       " [92, 54, 63, 67, 86],\n",
       " [71, 52, 88, 79, 72],\n",
       " [99, 84, 99, 59, 76],\n",
       " [80, 60, 97, 76, 62],\n",
       " [95, 84, 88, 51, 98],\n",
       " [53, 69, 67, 89, 91],\n",
       " [77, 84, 94, 64, 80],\n",
       " [58, 77, 77, 55, 76],\n",
       " [75, 68, 70, 99, 58],\n",
       " [79, 71, 67, 79, 99],\n",
       " [70, 55, 72, 99, 62],\n",
       " [79, 80, 67, 98, 85]]"
      ]
     },
     "execution_count": 16,
     "metadata": {},
     "output_type": "execute_result"
    }
   ],
   "source": [
    "import random\n",
    "def createStudent()->list[int]:\n",
    "    stu = []\n",
    "    for _ in range(5):\n",
    "        score = random.randint(50,100)\n",
    "        stu.append(score)\n",
    "    return stu\n",
    "\n",
    "def createClasses()->list[list]:\n",
    "    classes = []\n",
    "    for _ in range(50):\n",
    "        stu = createStudent()\n",
    "        classes.append(stu)\n",
    "    return classes\n",
    "\n",
    "createClasses()"
   ]
  },
  {
   "cell_type": "code",
   "execution_count": 19,
   "metadata": {},
   "outputs": [
    {
     "data": {
      "text/plain": [
       "[[69, 83, 93, 100, 63],\n",
       " [69, 60, 62, 68, 86],\n",
       " [81, 60, 55, 72, 54],\n",
       " [70, 78, 59, 82, 56],\n",
       " [74, 70, 64, 80, 50],\n",
       " [55, 100, 99, 66, 69],\n",
       " [56, 69, 55, 86, 88],\n",
       " [78, 52, 99, 56, 50],\n",
       " [99, 67, 51, 51, 68],\n",
       " [69, 97, 65, 95, 88]]"
      ]
     },
     "execution_count": 19,
     "metadata": {},
     "output_type": "execute_result"
    }
   ],
   "source": [
    "import random\n",
    "def createStudent()->list[int]:\n",
    "    stu = []\n",
    "    for _ in range(5):\n",
    "        score = random.randint(50,100)\n",
    "        stu.append(score)\n",
    "    return stu\n",
    "\n",
    "def createClasses(numbers:int)->list[list]:\n",
    "    classes = []\n",
    "    for _ in range(numbers):\n",
    "        stu = createStudent()\n",
    "        classes.append(stu)\n",
    "    return classes\n",
    "\n",
    "createClasses(10)"
   ]
  }
 ],
 "metadata": {
  "kernelspec": {
   "display_name": "Python 3",
   "language": "python",
   "name": "python3"
  },
  "language_info": {
   "codemirror_mode": {
    "name": "ipython",
    "version": 3
   },
   "file_extension": ".py",
   "mimetype": "text/x-python",
   "name": "python",
   "nbconvert_exporter": "python",
   "pygments_lexer": "ipython3",
   "version": "3.10.13"
  }
 },
 "nbformat": 4,
 "nbformat_minor": 2
}
