{
 "cells": [
  {
   "cell_type": "code",
   "execution_count": null,
   "metadata": {},
   "outputs": [],
   "source": [
    "import numpy as np\n",
    "import pandas as pd\n",
    "from openpyxl import Workbook\n",
    "from pandas.io.formats.excel import ExcelFormatter\n",
    "from pandas.io.excel._base import ExcelWriter\n",
    "\n",
    "def generate_class_scores(num_classes):\n",
    "    # 創建一個空的 Excel 工作簿\n",
    "    wb = Workbook()\n",
    "    \n",
    "    # 將 Excel 工作簿保存為一個文件\n",
    "    excel_path = '天龍國小.xlsx'\n",
    "\n",
    "    with ExcelWriter(excel_path, engine='openpyxl') as writer:\n",
    "        for i in range(1, num_classes + 1):\n",
    "            # 生成隨機分數\n",
    "            scores = np.random.randint(0, 100, size=(3, 5))\n",
    "            scores_df = pd.DataFrame(scores,\n",
    "                                     columns=['國文', '英文', '數學', '地理', '歷史'],\n",
    "                                     index=range(1, 4))\n",
    "\n",
    "            # 計算總分和平均\n",
    "            sum_values = scores_df.sum(axis=1)\n",
    "            mean_values = scores_df.mean(axis=1)\n",
    "            scores_df['總分'] = sum_values\n",
    "            scores_df['平均'] = mean_values\n",
    "\n",
    "            # 格式化和高亮\n",
    "            pdstyle = scores_df.style \\\n",
    "                .format(precision=2) \\\n",
    "                .highlight_between(left=0, right=59, props='color:white; background-color:#CB1B45;') \\\n",
    "                .highlight_max(axis=1, subset=scores_df.columns[:5], props='color:white; background-color:#2B5F75')\n",
    "\n",
    "            # 將分數表寫入 Excel 工作簿的一個 sheet 中\n",
    "            sheet_name = f'3年{i}班'\n",
    "            pdstyle.to_excel(writer, sheet_name=sheet_name, index=False, engine='openpyxl')\n",
    "\n",
    "# 輸入班級數量\n",
    "num_classes = int(input(\"請輸入班級數量: \"))\n",
    "generate_class_scores(num_classes)\n"
   ]
  }
 ],
 "metadata": {
  "language_info": {
   "name": "python"
  }
 },
 "nbformat": 4,
 "nbformat_minor": 2
}
