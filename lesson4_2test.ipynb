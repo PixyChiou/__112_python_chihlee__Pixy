{
 "cells": [
  {
   "cell_type": "code",
   "execution_count": 23,
   "metadata": {},
   "outputs": [
    {
     "name": "stdout",
     "output_type": "stream",
     "text": [
      "負數\n",
      "-3.0\n"
     ]
    }
   ],
   "source": [
    "# 作業 巢狀選擇\n",
    "#• 如果x不是負數，則傳回值為 x ** (1 / y)。\n",
    "#• 如果x是負數而且為偶數，則傳回值為\"虛數\"。\n",
    "#• 如果x是負數而且為奇數，則傳回值為 -(-x) ** (1 / y)。\n",
    "\n",
    "x = float(input(\"輸入x\"))\n",
    "y = float(input('輸入y'))\n",
    "if x >= 0:\n",
    "    print(\"不是負數\")\n",
    "    root = (x ** (1 / y))\n",
    "else:\n",
    "    if x % 2 == 0:\n",
    "        print(\"x是負數及偶數也是虛數\")\n",
    "    else:\n",
    "        print('負數')\n",
    "        root = (-(-x) ** (1/y))\n",
    "print(root)"
   ]
  },
  {
   "cell_type": "code",
   "execution_count": 36,
   "metadata": {},
   "outputs": [
    {
     "name": "stdout",
     "output_type": "stream",
     "text": [
      "8000\n"
     ]
    }
   ],
   "source": [
    "#輸入顧客購買金額,若金額在\n",
    "#100000打8折,\n",
    "#50000打85折,\n",
    "#30000打9折,\n",
    "#10000打95折,\n",
    "#請輸入購買金額:130000\n",
    "#實付金額是:104000.0元\n",
    "\n",
    "x = int(input('輸入購買金額:'))\n",
    "if x >=100000:\n",
    "    y = x * 0.8\n",
    "elif x >=50000:\n",
    "    y = x * 0.85\n",
    "elif x >= 30000:\n",
    "    y = x * 0.90\n",
    "elif x >=10000:\n",
    "    y = x * 0.95\n",
    "else:\n",
    "    y = x\n",
    "print(y)"
   ]
  },
  {
   "cell_type": "code",
   "execution_count": 9,
   "metadata": {},
   "outputs": [
    {
     "name": "stdout",
     "output_type": "stream",
     "text": [
      "288888.8\n"
     ]
    }
   ],
   "source": [
    "#輸入顧客購買金額,若金額在\n",
    "#100000打8折,\n",
    "#50000打85折,\n",
    "#30000打9折,\n",
    "#10000打95折,\n",
    "#請輸入購買金額:130000\n",
    "#實付金額是:104000.0元\n",
    "x = int(input('輸入購買金'))\n",
    "if x >= 100000:\n",
    "    x *= 0.8\n",
    "elif x >= 50000:\n",
    "    x *= 0.85\n",
    "elif x >= 30000:\n",
    "    x *= 0.9\n",
    "elif x >= 10000:\n",
    "    x *= 0.95\n",
    "else:\n",
    "    x\n",
    "print(x)"
   ]
  }
 ],
 "metadata": {
  "kernelspec": {
   "display_name": "Python 3",
   "language": "python",
   "name": "python3"
  },
  "language_info": {
   "codemirror_mode": {
    "name": "ipython",
    "version": 3
   },
   "file_extension": ".py",
   "mimetype": "text/x-python",
   "name": "python",
   "nbconvert_exporter": "python",
   "pygments_lexer": "ipython3",
   "version": "3.10.13"
  }
 },
 "nbformat": 4,
 "nbformat_minor": 2
}
