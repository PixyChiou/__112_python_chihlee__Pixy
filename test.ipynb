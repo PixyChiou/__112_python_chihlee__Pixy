{
 "cells": [
  {
   "cell_type": "code",
   "execution_count": 14,
   "metadata": {},
   "outputs": [
    {
     "name": "stdout",
     "output_type": "stream",
     "text": [
      "重新輸入\n",
      "結束,age為32\n"
     ]
    }
   ],
   "source": [
    "while True:\n",
    "    age = input('輸入年齡:')\n",
    "    try:\n",
    "        age = int(age)\n",
    "        if age < 1:\n",
    "            print('輸入正確年齡')\n",
    "            continue\n",
    "        break\n",
    "    except:\n",
    "        print('重新輸入')\n",
    "        continue\n",
    "print(f'結束,age為{age}')"
   ]
  },
  {
   "cell_type": "code",
   "execution_count": 9,
   "metadata": {},
   "outputs": [
    {
     "name": "stdout",
     "output_type": "stream",
     "text": [
      "年齡:\n",
      "輸入正確年齡\n",
      "年齡:\n",
      "結束,你的年齡為6\n"
     ]
    }
   ],
   "source": [
    "while True:\n",
    "    print('年齡:')\n",
    "    age = input()\n",
    "    try:\n",
    "        age = int(age)\n",
    "    except:\n",
    "        print('重新輸入')\n",
    "        continue\n",
    "    if age < 1:\n",
    "        print('輸入正確年齡')\n",
    "        continue\n",
    "    break\n",
    "print(f'結束,你的年齡為{age}')"
   ]
  },
  {
   "cell_type": "code",
   "execution_count": 15,
   "metadata": {},
   "outputs": [
    {
     "name": "stdout",
     "output_type": "stream",
     "text": [
      "1\n",
      "2\n",
      "3\n",
      "4\n",
      "5\n",
      "6\n",
      "7\n",
      "8\n",
      "9\n",
      "10\n"
     ]
    }
   ],
   "source": [
    "import random\n",
    "n = 1\n",
    "while n <= 10:\n",
    "    print(n)\n",
    "    n += 1\n"
   ]
  }
 ],
 "metadata": {
  "kernelspec": {
   "display_name": "Python 3",
   "language": "python",
   "name": "python3"
  },
  "language_info": {
   "codemirror_mode": {
    "name": "ipython",
    "version": 3
   },
   "file_extension": ".py",
   "mimetype": "text/x-python",
   "name": "python",
   "nbconvert_exporter": "python",
   "pygments_lexer": "ipython3",
   "version": "3.10.13"
  }
 },
 "nbformat": 4,
 "nbformat_minor": 2
}
