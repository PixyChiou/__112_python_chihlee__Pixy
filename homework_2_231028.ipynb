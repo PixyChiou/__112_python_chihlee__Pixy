{
 "cells": [
  {
   "cell_type": "code",
   "execution_count": 1,
   "metadata": {},
   "outputs": [
    {
     "name": "stdout",
     "output_type": "stream",
     "text": [
      "收縮壓120,舒張壓70\n",
      "血壓升高\n"
     ]
    }
   ],
   "source": [
    "sbp = int(input('請輸入收縮壓:'))\n",
    "dbp = int(input('請輸入舒張壓:'))\n",
    "suggestion = \"\"\n",
    "if (sbp < 120) and (dbp < 80):\n",
    "    suggestion = '正常'\n",
    "elif (120 <= sbp <= 129) and (dbp < 80):\n",
    "    suggestion = '血壓升高'\n",
    "elif (sbp >= 130) and (dbp <80):\n",
    "    suggestion = '單純收縮期 高血壓'\n",
    "elif (130 <= sbp <=139) or (80 <= dbp <=89):\n",
    "    suggestion = '高血壓一期'\n",
    "elif (sbp >=140) or (dbp >=90):\n",
    "    suggestion = '高血壓二期'\n",
    "print(f'收縮壓{sbp},舒張壓{dbp}')\n",
    "print(suggestion)"
   ]
  },
  {
   "cell_type": "code",
   "execution_count": 1,
   "metadata": {},
   "outputs": [
    {
     "name": "stdout",
     "output_type": "stream",
     "text": [
      "單純收縮期高血壓\n"
     ]
    }
   ],
   "source": [
    "sbp = int(input(\"請輸入收縮壓:\"))\n",
    "dbp = int(input(\"請輸入舒張壓:\"))\n",
    "suggestion =  \"\"\n",
    "if sbp < 120 and dbp < 80:\n",
    "   suggestion = \"正常\"\n",
    "\n",
    "if 120 <= sbp <= 129 and dbp < 80:\n",
    "   suggestion = \"高血壓升高\"\n",
    "\n",
    "if 130 <= sbp <= 139 or 80 <= dbp <= 89:\n",
    "   suggestion = \"高血壓一期\"\n",
    "\n",
    "if sbp >= 140 or dbp >= 90:\n",
    "   suggestion = \"高血壓二期\"\n",
    "\n",
    "if sbp >= 130 and dbp < 80:\n",
    "   suggestion = \"單純收縮期高血壓\"\n",
    "\n",
    "print(suggestion)"
   ]
  },
  {
   "cell_type": "code",
   "execution_count": 2,
   "metadata": {},
   "outputs": [
    {
     "name": "stdout",
     "output_type": "stream",
     "text": [
      "收縮壓:130 / 舒張壓:70 -->單純收縮期高血壓\n",
      "==結束==\n"
     ]
    }
   ],
   "source": [
    "def blood_pressure(sbp,dbp):\n",
    "    suggestion =  \"\"\n",
    "    if (sbp < 120) and (dbp < 80):\n",
    "        return \"正常\"\n",
    "    elif (120 <= sbp <=129) and (dbp < 80):\n",
    "        return \"血壓升高\"\n",
    "    elif (sbp >= 130) and (dbp < 80):\n",
    "        return \"單純收縮期高血壓\"\n",
    "    elif ( 130 <= sbp <= 139) or (80 <= dbp <=89):\n",
    "        return \"高血壓一期\"\n",
    "    elif sbp >=140 or dbp >= 90:\n",
    "        return \"高血壓二期\"\n",
    "    \n",
    "#-------------------------------------------------------------------------------\n",
    "\n",
    "while(True):\n",
    "    sbp = int(input(\"請輸入收縮壓:\"))\n",
    "    dbp = int(input(\"請輸入舒張壓:\"))\n",
    "    suggestion = blood_pressure(sbp,dbp)\n",
    "    print (f\"收縮壓:{sbp} / 舒張壓:{dbp} -->{suggestion}\")\n",
    "          \n",
    "    while(True):\n",
    "        yn = input(\"是否繼續判斷，Y/N\").upper()\n",
    "        if yn == 'Y' or yn == 'N':\n",
    "            break\n",
    "        else:\n",
    "            print(\"提示:是否繼續限輸入 Y 或 N\")\n",
    "            continue\n",
    "        \n",
    "    if yn == 'Y':\n",
    "        continue\n",
    "    elif yn == 'N':\n",
    "        print(\"==結束==\")\n",
    "        break         "
   ]
  }
 ],
 "metadata": {
  "kernelspec": {
   "display_name": "Python 3",
   "language": "python",
   "name": "python3"
  },
  "language_info": {
   "codemirror_mode": {
    "name": "ipython",
    "version": 3
   },
   "file_extension": ".py",
   "mimetype": "text/x-python",
   "name": "python",
   "nbconvert_exporter": "python",
   "pygments_lexer": "ipython3",
   "version": "3.10.13"
  }
 },
 "nbformat": 4,
 "nbformat_minor": 2
}
