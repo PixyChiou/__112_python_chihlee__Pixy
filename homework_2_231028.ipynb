{
 "cells": [
  {
   "cell_type": "code",
   "execution_count": 2,
   "metadata": {},
   "outputs": [
    {
     "name": "stdout",
     "output_type": "stream",
     "text": [
      "高血壓一期\n"
     ]
    }
   ],
   "source": [
    "sbp = int(input('請輸入收縮壓:'))\n",
    "dbp = int(input('請輸入舒張壓:'))\n",
    "suggestion = \"\"\n",
    "if (sbp < 120) and (dbp < 80):\n",
    "    suggestion = '正常'\n",
    "elif (120 <= sbp <= 129) and (dbp < 80):\n",
    "    suggestion = '血壓升高'\n",
    "elif (sbp >= 130) and (dbp <80):\n",
    "    suggestion = '單純收縮期 高血壓'\n",
    "elif (130 <= sbp <=139) or (80 <= dbp <=89):\n",
    "    suggestion = '高血壓一期'\n",
    "elif (sbp >=140) or (dbp >=90):\n",
    "    suggestion = '高血壓二期'\n",
    "print(suggestion)"
   ]
  }
 ],
 "metadata": {
  "kernelspec": {
   "display_name": "Python 3",
   "language": "python",
   "name": "python3"
  },
  "language_info": {
   "codemirror_mode": {
    "name": "ipython",
    "version": 3
   },
   "file_extension": ".py",
   "mimetype": "text/x-python",
   "name": "python",
   "nbconvert_exporter": "python",
   "pygments_lexer": "ipython3",
   "version": "3.10.13"
  }
 },
 "nbformat": 4,
 "nbformat_minor": 2
}
