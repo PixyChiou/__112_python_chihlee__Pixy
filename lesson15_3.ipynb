{
 "cells": [
  {
   "cell_type": "code",
   "execution_count": 6,
   "metadata": {},
   "outputs": [
    {
     "data": {
      "text/html": [
       "<div>\n",
       "<style scoped>\n",
       "    .dataframe tbody tr th:only-of-type {\n",
       "        vertical-align: middle;\n",
       "    }\n",
       "\n",
       "    .dataframe tbody tr th {\n",
       "        vertical-align: top;\n",
       "    }\n",
       "\n",
       "    .dataframe thead th {\n",
       "        text-align: right;\n",
       "    }\n",
       "</style>\n",
       "<table border=\"1\" class=\"dataframe\">\n",
       "  <thead>\n",
       "    <tr style=\"text-align: right;\">\n",
       "      <th></th>\n",
       "      <th>d</th>\n",
       "      <th>f</th>\n",
       "      <th>e</th>\n",
       "    </tr>\n",
       "  </thead>\n",
       "  <tbody>\n",
       "    <tr>\n",
       "      <th>台北</th>\n",
       "      <td>2.376338</td>\n",
       "      <td>0.554522</td>\n",
       "      <td>1.521942</td>\n",
       "    </tr>\n",
       "    <tr>\n",
       "      <th>台中</th>\n",
       "      <td>-1.607708</td>\n",
       "      <td>1.015019</td>\n",
       "      <td>0.257298</td>\n",
       "    </tr>\n",
       "    <tr>\n",
       "      <th>台南</th>\n",
       "      <td>1.471971</td>\n",
       "      <td>0.438044</td>\n",
       "      <td>0.259279</td>\n",
       "    </tr>\n",
       "    <tr>\n",
       "      <th>高雄</th>\n",
       "      <td>-1.313232</td>\n",
       "      <td>-0.152813</td>\n",
       "      <td>1.207519</td>\n",
       "    </tr>\n",
       "  </tbody>\n",
       "</table>\n",
       "</div>"
      ],
      "text/plain": [
       "           d         f         e\n",
       "台北  2.376338  0.554522  1.521942\n",
       "台中 -1.607708  1.015019  0.257298\n",
       "台南  1.471971  0.438044  0.259279\n",
       "高雄 -1.313232 -0.152813  1.207519"
      ]
     },
     "execution_count": 6,
     "metadata": {},
     "output_type": "execute_result"
    }
   ],
   "source": [
    "import numpy as np\n",
    "import pandas as pd\n",
    "\n",
    "frame = pd.DataFrame(np.random.randn(4,3),\n",
    "             columns = ['d','f','e'],\n",
    "             index=['台北','台中','台南','高雄'])\n",
    "frame"
   ]
  },
  {
   "cell_type": "code",
   "execution_count": 7,
   "metadata": {},
   "outputs": [
    {
     "data": {
      "text/html": [
       "<div>\n",
       "<style scoped>\n",
       "    .dataframe tbody tr th:only-of-type {\n",
       "        vertical-align: middle;\n",
       "    }\n",
       "\n",
       "    .dataframe tbody tr th {\n",
       "        vertical-align: top;\n",
       "    }\n",
       "\n",
       "    .dataframe thead th {\n",
       "        text-align: right;\n",
       "    }\n",
       "</style>\n",
       "<table border=\"1\" class=\"dataframe\">\n",
       "  <thead>\n",
       "    <tr style=\"text-align: right;\">\n",
       "      <th></th>\n",
       "      <th>d</th>\n",
       "      <th>f</th>\n",
       "      <th>e</th>\n",
       "    </tr>\n",
       "  </thead>\n",
       "  <tbody>\n",
       "    <tr>\n",
       "      <th>台北</th>\n",
       "      <td>2.376338</td>\n",
       "      <td>0.554522</td>\n",
       "      <td>1.521942</td>\n",
       "    </tr>\n",
       "    <tr>\n",
       "      <th>台中</th>\n",
       "      <td>1.607708</td>\n",
       "      <td>1.015019</td>\n",
       "      <td>0.257298</td>\n",
       "    </tr>\n",
       "    <tr>\n",
       "      <th>台南</th>\n",
       "      <td>1.471971</td>\n",
       "      <td>0.438044</td>\n",
       "      <td>0.259279</td>\n",
       "    </tr>\n",
       "    <tr>\n",
       "      <th>高雄</th>\n",
       "      <td>1.313232</td>\n",
       "      <td>0.152813</td>\n",
       "      <td>1.207519</td>\n",
       "    </tr>\n",
       "  </tbody>\n",
       "</table>\n",
       "</div>"
      ],
      "text/plain": [
       "           d         f         e\n",
       "台北  2.376338  0.554522  1.521942\n",
       "台中  1.607708  1.015019  0.257298\n",
       "台南  1.471971  0.438044  0.259279\n",
       "高雄  1.313232  0.152813  1.207519"
      ]
     },
     "execution_count": 7,
     "metadata": {},
     "output_type": "execute_result"
    }
   ],
   "source": [
    "np.absolute(frame) #絶對值"
   ]
  },
  {
   "cell_type": "code",
   "execution_count": 28,
   "metadata": {},
   "outputs": [
    {
     "name": "stdout",
     "output_type": "stream",
     "text": [
      "2.3763376083154952\n",
      "-1.6077080579564482\n",
      "1.471970753554801\n",
      "-1.3132318650757866\n",
      "========\n",
      "0.5545216049072158\n",
      "1.0150194003967414\n",
      "0.4380441139113133\n",
      "-0.1528126615102143\n",
      "========\n",
      "1.521942346817383\n",
      "0.25729800050682916\n",
      "0.25927852163892373\n",
      "1.2075185196196905\n",
      "========\n"
     ]
    }
   ],
   "source": [
    "#使用for in 讀取DataFrame\n",
    "for column in frame: \n",
    "    for item in frame[column]: \n",
    "        print(item)\n",
    "    print('========')"
   ]
  },
  {
   "cell_type": "code",
   "execution_count": 29,
   "metadata": {},
   "outputs": [
    {
     "name": "stdout",
     "output_type": "stream",
     "text": [
      "台北    2.376338\n",
      "台中    1.607708\n",
      "台南    1.471971\n",
      "高雄    1.313232\n",
      "Name: d, dtype: float64\n",
      "台北    0.554522\n",
      "台中    1.015019\n",
      "台南    0.438044\n",
      "高雄    0.152813\n",
      "Name: f, dtype: float64\n",
      "台北    1.521942\n",
      "台中    0.257298\n",
      "台南    0.259279\n",
      "高雄    1.207519\n",
      "Name: e, dtype: float64\n"
     ]
    }
   ],
   "source": [
    "#使用for in 讀取DataFrame\n",
    "for column in frame: \n",
    "    print(np.abs(frame[column]))\n",
    "        "
   ]
  },
  {
   "cell_type": "code",
   "execution_count": 30,
   "metadata": {},
   "outputs": [
    {
     "data": {
      "text/plain": [
       "d    2.376338\n",
       "f    1.015019\n",
       "e    1.521942\n",
       "dtype: float64"
      ]
     },
     "execution_count": 30,
     "metadata": {},
     "output_type": "execute_result"
    }
   ],
   "source": [
    "np.max(frame,axis=0)"
   ]
  },
  {
   "cell_type": "code",
   "execution_count": 31,
   "metadata": {},
   "outputs": [
    {
     "data": {
      "text/plain": [
       "台北    2.376338\n",
       "台中    1.015019\n",
       "台南    1.471971\n",
       "高雄    1.207519\n",
       "dtype: float64"
      ]
     },
     "execution_count": 31,
     "metadata": {},
     "output_type": "execute_result"
    }
   ],
   "source": [
    "np.max(frame,axis=1)"
   ]
  },
  {
   "cell_type": "code",
   "execution_count": 32,
   "metadata": {},
   "outputs": [
    {
     "data": {
      "text/plain": [
       "d    3.984046\n",
       "f    1.167832\n",
       "e    1.264644\n",
       "dtype: float64"
      ]
     },
     "execution_count": 32,
     "metadata": {},
     "output_type": "execute_result"
    }
   ],
   "source": [
    "#使用numpy的function\n",
    "np.max(frame,axis=0) - np.min(frame,axis=0)"
   ]
  },
  {
   "cell_type": "code",
   "execution_count": 33,
   "metadata": {},
   "outputs": [
    {
     "data": {
      "text/plain": [
       "d    3.984046\n",
       "f    1.167832\n",
       "e    1.264644\n",
       "dtype: float64"
      ]
     },
     "execution_count": 33,
     "metadata": {},
     "output_type": "execute_result"
    }
   ],
   "source": [
    "#使用dataFrame的method\n",
    "frame.max(axis=0) - frame.min(axis=0)"
   ]
  },
  {
   "cell_type": "code",
   "execution_count": 38,
   "metadata": {},
   "outputs": [
    {
     "name": "stdout",
     "output_type": "stream",
     "text": [
      "d\n",
      "f\n",
      "e\n"
     ]
    },
    {
     "data": {
      "text/plain": [
       "d    4.984046\n",
       "f    2.167832\n",
       "e    2.264644\n",
       "dtype: float64"
      ]
     },
     "execution_count": 38,
     "metadata": {},
     "output_type": "execute_result"
    }
   ],
   "source": [
    "def fun1(series):\n",
    "    print(series.name)\n",
    "    return series.max() - series.min() + 1\n",
    "\n",
    "frame.apply(fun1)"
   ]
  }
 ],
 "metadata": {
  "kernelspec": {
   "display_name": "Python 3",
   "language": "python",
   "name": "python3"
  },
  "language_info": {
   "codemirror_mode": {
    "name": "ipython",
    "version": 3
   },
   "file_extension": ".py",
   "mimetype": "text/x-python",
   "name": "python",
   "nbconvert_exporter": "python",
   "pygments_lexer": "ipython3",
   "version": "3.10.13"
  }
 },
 "nbformat": 4,
 "nbformat_minor": 2
}
