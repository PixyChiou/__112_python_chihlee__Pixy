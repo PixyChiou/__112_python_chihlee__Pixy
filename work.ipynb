{
 "cells": [
  {
   "cell_type": "code",
   "execution_count": 1,
   "metadata": {},
   "outputs": [
    {
     "ename": "ImportError",
     "evalue": "cannot import name 'json_normalize' from 'pandas.io.json' (/home/vscode/.local/lib/python3.10/site-packages/pandas/io/json/__init__.py)",
     "output_type": "error",
     "traceback": [
      "\u001b[0;31m---------------------------------------------------------------------------\u001b[0m",
      "\u001b[0;31mImportError\u001b[0m                               Traceback (most recent call last)",
      "\u001b[1;32m/workspaces/__112_python_chihlee__Pixy/work.ipynb Cell 1\u001b[0m line \u001b[0;36m7\n\u001b[1;32m      <a href='vscode-notebook-cell://codespaces%2Borganic-space-potato-979pqvg5jwxx2jqx/workspaces/__112_python_chihlee__Pixy/work.ipynb#W0sdnNjb2RlLXJlbW90ZQ%3D%3D?line=4'>5</a>\u001b[0m \u001b[39mimport\u001b[39;00m \u001b[39mtime\u001b[39;00m\n\u001b[1;32m      <a href='vscode-notebook-cell://codespaces%2Borganic-space-potato-979pqvg5jwxx2jqx/workspaces/__112_python_chihlee__Pixy/work.ipynb#W0sdnNjb2RlLXJlbW90ZQ%3D%3D?line=5'>6</a>\u001b[0m \u001b[39mimport\u001b[39;00m \u001b[39mjson\u001b[39;00m\n\u001b[0;32m----> <a href='vscode-notebook-cell://codespaces%2Borganic-space-potato-979pqvg5jwxx2jqx/workspaces/__112_python_chihlee__Pixy/work.ipynb#W0sdnNjb2RlLXJlbW90ZQ%3D%3D?line=6'>7</a>\u001b[0m \u001b[39mfrom\u001b[39;00m \u001b[39mpandas\u001b[39;00m\u001b[39m.\u001b[39;00m\u001b[39mio\u001b[39;00m\u001b[39m.\u001b[39;00m\u001b[39mjson\u001b[39;00m \u001b[39mimport\u001b[39;00m json_normalize\n",
      "\u001b[0;31mImportError\u001b[0m: cannot import name 'json_normalize' from 'pandas.io.json' (/home/vscode/.local/lib/python3.10/site-packages/pandas/io/json/__init__.py)"
     ]
    }
   ],
   "source": [
    "import os\n",
    "import pandas as pd\n",
    "import requests\n",
    "import xml.etree.ElementTree as ET\n",
    "import time\n",
    "import json\n",
    "from pandas.io.json import json_normalize"
   ]
  },
  {
   "cell_type": "code",
   "execution_count": null,
   "metadata": {},
   "outputs": [],
   "source": [
    "#D_path路徑要改成自己電腦放置統編檔案的位置\n",
    "D_path = r'D:\\Qsync\\Pixy\\1.dogger\\2.資料整理\\其他\\散客\\112年9月'\n",
    "#D_file統編檔案\n",
    "D_file = '統編.csv'\n",
    "os.chdir(D_path)"
   ]
  },
  {
   "cell_type": "code",
   "execution_count": null,
   "metadata": {},
   "outputs": [],
   "source": [
    "comp=pd.DataFrame()\n",
    "comp_ls=pd.DataFrame()\n",
    "comp_no=pd.DataFrame()\n",
    "comp_no_ls=pd.DataFrame()\n",
    "\n",
    "type_dic= { 'CUST_ID_NO':str}\n",
    "dataset = pd.read_csv(D_file,dtype = type_dic)\n",
    "data = list(dataset['CUST_ID_NO'])"
   ]
  },
  {
   "cell_type": "code",
   "execution_count": null,
   "metadata": {},
   "outputs": [],
   "source": [
    "for i in data:\n",
    "    print('統一編號:',i ,' 查詢完成')\n",
    "    request_url = 'https://data.gcis.nat.gov.tw/od/data/api/5F64D864-61CB-4D0D-8AD9-492047CC1EA6?$format=json&$filter=Business_Accounting_NO eq '+i+'&$skip=0&$top=50'\n",
    "    html = requests.get(request_url)\n",
    "    root = html.text\n",
    "   \n",
    "\n",
    "    if len(root) >= 1:\n",
    "        res = json_normalize(json.loads(html.text))\n",
    "        comp = comp.append(pd.DataFrame(res))\n",
    "        co_data = [[i, \"查詢完成\"]]\n",
    "\n",
    "    else:\n",
    "        print('統一編號:',i ,' 查無此公司資料')\n",
    "        co_data = [[i, \"查無此公司資料\"]]\n",
    "\n",
    "    comp_no_ls = pd.DataFrame(co_data, columns=[\"統一編號\", \"查詢結果\"])\n",
    "    comp_no = comp_no.append(comp_no_ls)"
   ]
  },
  {
   "cell_type": "code",
   "execution_count": null,
   "metadata": {},
   "outputs": [],
   "source": [
    "comp.to_excel('統編查詢資料.xlsx', encoding='utf_8_sig',index=None)\n",
    "comp_no.to_excel('統編查詢資料_查詢備註.xlsx', encoding='utf_8_sig',index=None)"
   ]
  }
 ],
 "metadata": {
  "kernelspec": {
   "display_name": "Python 3",
   "language": "python",
   "name": "python3"
  },
  "language_info": {
   "codemirror_mode": {
    "name": "ipython",
    "version": 3
   },
   "file_extension": ".py",
   "mimetype": "text/x-python",
   "name": "python",
   "nbconvert_exporter": "python",
   "pygments_lexer": "ipython3",
   "version": "3.10.13"
  }
 },
 "nbformat": 4,
 "nbformat_minor": 2
}
