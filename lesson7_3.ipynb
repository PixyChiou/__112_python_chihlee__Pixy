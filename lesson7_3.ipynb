{
 "cells": [
  {
   "cell_type": "code",
   "execution_count": 14,
   "metadata": {},
   "outputs": [],
   "source": [
    "class Student():\n",
    "    def __init__(self,na,ch,en,ma):\n",
    "        self.name = na\n",
    "        self.chinese = ch\n",
    "        self.english = en\n",
    "        self.math = ma"
   ]
  },
  {
   "cell_type": "code",
   "execution_count": 16,
   "metadata": {},
   "outputs": [
    {
     "name": "stdout",
     "output_type": "stream",
     "text": [
      "robert\n",
      "78\n",
      "92\n",
      "82\n"
     ]
    }
   ],
   "source": [
    "stu1 = Student('robert',78,92,82)\n",
    "type(stu1)\n",
    "print(stu1.name)\n",
    "print(stu1.chinese)\n",
    "print(stu1.english)\n",
    "print(stu1.math)"
   ]
  },
  {
   "cell_type": "code",
   "execution_count": 9,
   "metadata": {},
   "outputs": [],
   "source": [
    "stu1.name = 'robert'\n",
    "stu1.chinese = 78\n",
    "stu1.english = 92\n",
    "stu1.math = 82"
   ]
  },
  {
   "cell_type": "code",
   "execution_count": 17,
   "metadata": {},
   "outputs": [
    {
     "name": "stdout",
     "output_type": "stream",
     "text": [
      "alice\n",
      "77\n",
      "93\n",
      "65\n"
     ]
    }
   ],
   "source": [
    "stu2 = Student('alice',77,93,65)\n",
    "print(stu2.name)\n",
    "print(stu2.chinese)\n",
    "print(stu2.english)\n",
    "print(stu2.math)"
   ]
  },
  {
   "cell_type": "code",
   "execution_count": 11,
   "metadata": {},
   "outputs": [
    {
     "name": "stdout",
     "output_type": "stream",
     "text": [
      "robert\n",
      "alice\n"
     ]
    }
   ],
   "source": [
    "print(stu1.name)\n",
    "print(stu2.name)"
   ]
  }
 ],
 "metadata": {
  "kernelspec": {
   "display_name": "Python 3",
   "language": "python",
   "name": "python3"
  },
  "language_info": {
   "codemirror_mode": {
    "name": "ipython",
    "version": 3
   },
   "file_extension": ".py",
   "mimetype": "text/x-python",
   "name": "python",
   "nbconvert_exporter": "python",
   "pygments_lexer": "ipython3",
   "version": "3.10.13"
  }
 },
 "nbformat": 4,
 "nbformat_minor": 2
}
