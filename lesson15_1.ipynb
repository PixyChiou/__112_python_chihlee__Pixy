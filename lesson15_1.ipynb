{
 "cells": [
  {
   "cell_type": "code",
   "execution_count": null,
   "metadata": {},
   "outputs": [],
   "source": [
    "from pandas.io.excel._base import ExcelWriter\n",
    "excel_path = '天龍國小.xlsx'\n",
    "\n",
    "writer = ExcelWriter(excel_path, enginge='')"
   ]
  }
 ],
 "metadata": {
  "language_info": {
   "name": "python"
  }
 },
 "nbformat": 4,
 "nbformat_minor": 2
}
