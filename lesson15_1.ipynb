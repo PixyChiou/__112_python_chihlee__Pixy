{
 "cells": [
  {
   "cell_type": "code",
   "execution_count": null,
   "metadata": {},
   "outputs": [],
   "source": [
    "from pandas.io.excel._base import ExcelWriter\n",
    "excel_path = '天龍國小1.xlsx'\n",
    "##with ExcelWriter(excel_path, engine='openpyxl') as writer:\n",
    "writer=ExcelWriter(excel_path, engine='openpyxl')\n",
    "writer.close()\n",
    "     "
   ]
  }
 ],
 "metadata": {
  "kernelspec": {
   "display_name": "Python 3",
   "language": "python",
   "name": "python3"
  },
  "language_info": {
   "name": "python",
   "version": "3.10.13"
  }
 },
 "nbformat": 4,
 "nbformat_minor": 2
}
